{
 "cells": [
  {
   "cell_type": "markdown",
   "metadata": {},
   "source": [
    "# COVID 19 OUTBREAK\n",
    "\n",
    "The corona virus outbreak now has spread to multiple countries and hit millions of lives with thousands of deaths across the world. The outbreak has caused numerous challenges and problems, with governments and organisations facing new problems. Global situation is alarming. Companies are facing losses.\n",
    "\n",
    "AI, Data Science and Technology is helping to fight the Virus outbreak. Chinese authorities initiated their response to the virus, taking help from technology giants like Alibaba, Baidu, Huawei. Country’s healthcare initiatives were boosted and data about the outbreak was analysed and adequate measures were taken.\n",
    "\n",
    "To know about how to prevent the spread of virus, authorities need to know where the people are. Facebook has already teamed up with researchers at Harvard University’s School of Public Health and the National Tsing Hua University, in Taiwan, sharing data about people’s movements and high-resolution population density maps, which help them forecast the spread of the virus. Social networks are also helping governments track how people are talking about the issue online."
   ]
  },
  {
   "cell_type": "markdown",
   "metadata": {},
   "source": [
    "### Importing Libraries"
   ]
  },
  {
   "cell_type": "code",
   "execution_count": 1,
   "metadata": {},
   "outputs": [],
   "source": [
    "import matplotlib.pyplot as plt \n",
    "import numpy as np\n",
    "import os \n",
    "import pandas as pd \n",
    "\n",
    "import plotly.express as px\n",
    "import datetime\n",
    "import seaborn as sns\n",
    "import plotly.graph_objects as go\n",
    "import folium \n",
    "from folium import plugins\n",
    "\n",
    "import warnings\n",
    "warnings.filterwarnings('ignore')"
   ]
  },
  {
   "cell_type": "code",
   "execution_count": 2,
   "metadata": {},
   "outputs": [],
   "source": [
    "from kaggle.api.kaggle_api_extended import KaggleApi\n",
    "api = KaggleApi()\n",
    "api.authenticate()"
   ]
  },
  {
   "cell_type": "code",
   "execution_count": 4,
   "metadata": {},
   "outputs": [
    {
     "name": "stdout",
     "output_type": "stream",
     "text": [
      "404 - Not Found\n"
     ]
    }
   ],
   "source": [
    "!kaggle datasets download -d covid19-in-india"
   ]
  },
  {
   "cell_type": "code",
   "execution_count": null,
   "metadata": {},
   "outputs": [],
   "source": []
  }
 ],
 "metadata": {
  "kernelspec": {
   "display_name": "Python 3",
   "language": "python",
   "name": "python3"
  },
  "language_info": {
   "codemirror_mode": {
    "name": "ipython",
    "version": 3
   },
   "file_extension": ".py",
   "mimetype": "text/x-python",
   "name": "python",
   "nbconvert_exporter": "python",
   "pygments_lexer": "ipython3",
   "version": "3.6.10"
  }
 },
 "nbformat": 4,
 "nbformat_minor": 4
}
